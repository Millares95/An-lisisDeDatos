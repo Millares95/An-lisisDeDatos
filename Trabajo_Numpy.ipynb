{
 "cells": [
  {
   "cell_type": "markdown",
   "metadata": {},
   "source": [
    "## Demostracion de que es mas rapido con un *arange* de _Python_"
   ]
  },
  {
   "cell_type": "code",
   "execution_count": 403,
   "metadata": {},
   "outputs": [],
   "source": [
    "import numpy as np"
   ]
  },
  {
   "cell_type": "code",
   "execution_count": 404,
   "metadata": {},
   "outputs": [
    {
     "name": "stdout",
     "output_type": "stream",
     "text": [
      "2.22 ms ± 58.5 μs per loop (mean ± std. dev. of 7 runs, 100 loops each)\n",
      "42.3 ms ± 774 μs per loop (mean ± std. dev. of 7 runs, 10 loops each)\n"
     ]
    }
   ],
   "source": [
    "\n",
    "my_arr = np.arange(1_000_000) # este es mas rapido a la hora de calcular valores \n",
    "my_list = list(range(1_000_000))\n",
    "%timeit my_arr2 = my_arr * 2\n",
    "%timeit my_list2 = [x * 2 for x in my_list]\n"
   ]
  },
  {
   "cell_type": "code",
   "execution_count": 405,
   "metadata": {},
   "outputs": [
    {
     "data": {
      "text/plain": [
       "array([[ 1.5, -0.1,  3. ],\n",
       "       [ 0. , -3. ,  6.5]])"
      ]
     },
     "execution_count": 405,
     "metadata": {},
     "output_type": "execute_result"
    }
   ],
   "source": [
    "data = np.array([[1.5, -0.1, 3], [0, -3, 6.5]])\n",
    "data"
   ]
  },
  {
   "cell_type": "code",
   "execution_count": 406,
   "metadata": {},
   "outputs": [
    {
     "data": {
      "text/plain": [
       "array([[ 15.,  -1.,  30.],\n",
       "       [  0., -30.,  65.]])"
      ]
     },
     "execution_count": 406,
     "metadata": {},
     "output_type": "execute_result"
    }
   ],
   "source": [
    "data *10"
   ]
  },
  {
   "cell_type": "code",
   "execution_count": 407,
   "metadata": {},
   "outputs": [
    {
     "data": {
      "text/plain": [
       "array([[ 3. , -0.2,  6. ],\n",
       "       [ 0. , -6. , 13. ]])"
      ]
     },
     "execution_count": 407,
     "metadata": {},
     "output_type": "execute_result"
    }
   ],
   "source": [
    "data + data"
   ]
  },
  {
   "cell_type": "markdown",
   "metadata": {},
   "source": [
    "numero de filas y columnas"
   ]
  },
  {
   "cell_type": "code",
   "execution_count": 408,
   "metadata": {},
   "outputs": [
    {
     "data": {
      "text/plain": [
       "(2, 3)"
      ]
     },
     "execution_count": 408,
     "metadata": {},
     "output_type": "execute_result"
    }
   ],
   "source": [
    "data.shape"
   ]
  },
  {
   "cell_type": "markdown",
   "metadata": {},
   "source": [
    "el tipo de elementos "
   ]
  },
  {
   "cell_type": "code",
   "execution_count": 409,
   "metadata": {},
   "outputs": [
    {
     "data": {
      "text/plain": [
       "dtype('float64')"
      ]
     },
     "execution_count": 409,
     "metadata": {},
     "output_type": "execute_result"
    }
   ],
   "source": [
    "data.dtype"
   ]
  },
  {
   "cell_type": "markdown",
   "metadata": {},
   "source": [
    "Creando _ndarray_"
   ]
  },
  {
   "cell_type": "code",
   "execution_count": 410,
   "metadata": {},
   "outputs": [
    {
     "data": {
      "text/plain": [
       "array([6. , 7.5, 8. , 0. , 1. ])"
      ]
     },
     "execution_count": 410,
     "metadata": {},
     "output_type": "execute_result"
    }
   ],
   "source": [
    "data1 = [6, 7.5, 8, 0, 1]\n",
    "arra1 = np.array(data1)\n",
    "arra1"
   ]
  },
  {
   "cell_type": "markdown",
   "metadata": {},
   "source": [
    "Convertir una lista de listas en un array\n"
   ]
  },
  {
   "cell_type": "code",
   "execution_count": 411,
   "metadata": {},
   "outputs": [
    {
     "data": {
      "text/plain": [
       "array([[1, 2, 3, 4],\n",
       "       [5, 6, 7, 8]])"
      ]
     },
     "execution_count": 411,
     "metadata": {},
     "output_type": "execute_result"
    }
   ],
   "source": [
    "data2 = [[1, 2, 3, 4], [5, 6, 7, 8]]\n",
    "arr2 = np.array(data2)\n",
    "arr2"
   ]
  },
  {
   "cell_type": "markdown",
   "metadata": {},
   "source": [
    "Dimension"
   ]
  },
  {
   "cell_type": "code",
   "execution_count": 412,
   "metadata": {},
   "outputs": [
    {
     "data": {
      "text/plain": [
       "numpy.ndarray"
      ]
     },
     "execution_count": 412,
     "metadata": {},
     "output_type": "execute_result"
    }
   ],
   "source": [
    "arr2.ndim\n",
    "arr2.shape\n",
    "type(arr2)"
   ]
  },
  {
   "cell_type": "markdown",
   "metadata": {},
   "source": [
    "array de ceros "
   ]
  },
  {
   "cell_type": "code",
   "execution_count": 413,
   "metadata": {},
   "outputs": [
    {
     "data": {
      "text/plain": [
       "array([[0., 0., 0., 0., 0., 0.],\n",
       "       [0., 0., 0., 0., 0., 0.],\n",
       "       [0., 0., 0., 0., 0., 0.]])"
      ]
     },
     "execution_count": 413,
     "metadata": {},
     "output_type": "execute_result"
    }
   ],
   "source": [
    "ceros = np.zeros(10)\n",
    "ceros\n",
    "np.zeros((3, 6))"
   ]
  },
  {
   "cell_type": "markdown",
   "metadata": {},
   "source": [
    "array de unos "
   ]
  },
  {
   "cell_type": "code",
   "execution_count": 414,
   "metadata": {},
   "outputs": [
    {
     "data": {
      "text/plain": [
       "array([[1., 1., 1., 1., 1., 1., 1., 1., 1.],\n",
       "       [1., 1., 1., 1., 1., 1., 1., 1., 1.],\n",
       "       [1., 1., 1., 1., 1., 1., 1., 1., 1.],\n",
       "       [1., 1., 1., 1., 1., 1., 1., 1., 1.],\n",
       "       [1., 1., 1., 1., 1., 1., 1., 1., 1.],\n",
       "       [1., 1., 1., 1., 1., 1., 1., 1., 1.]])"
      ]
     },
     "execution_count": 414,
     "metadata": {},
     "output_type": "execute_result"
    }
   ],
   "source": [
    "unos = np.ones(3)\n",
    "unos\n",
    "np.ones((6,9))"
   ]
  },
  {
   "cell_type": "code",
   "execution_count": 415,
   "metadata": {},
   "outputs": [
    {
     "data": {
      "text/plain": [
       "array([[[1., 1., 1., 1., 1., 1., 1., 1., 1.],\n",
       "        [1., 1., 1., 1., 1., 1., 1., 1., 1.],\n",
       "        [1., 1., 1., 1., 1., 1., 1., 1., 1.]],\n",
       "\n",
       "       [[1., 1., 1., 1., 1., 1., 1., 1., 1.],\n",
       "        [1., 1., 1., 1., 1., 1., 1., 1., 1.],\n",
       "        [1., 1., 1., 1., 1., 1., 1., 1., 1.]]])"
      ]
     },
     "execution_count": 415,
     "metadata": {},
     "output_type": "execute_result"
    }
   ],
   "source": [
    "np.empty((2, 3, 3)) # el primer valor tendra 2 repersetna la cantida de bloques que tendra , \n",
    "                    # el otro valor 3 corresponde a la cantidad de filas que tendras \n",
    "                    # el valor 2 del final se corresponde con la cantida de filas anidadas que tendra \n",
    "\n",
    "np.empty((2, 3, 9)) # Creo que aqui se ve mejor\n",
    "# Los valoes que se obtiene son valores basuras "
   ]
  },
  {
   "cell_type": "markdown",
   "metadata": {},
   "source": [
    "## Tipo de datos"
   ]
  },
  {
   "cell_type": "code",
   "execution_count": 416,
   "metadata": {},
   "outputs": [
    {
     "data": {
      "text/plain": [
       "array([3, 4, 5], dtype=int32)"
      ]
     },
     "execution_count": 416,
     "metadata": {},
     "output_type": "execute_result"
    }
   ],
   "source": [
    "arr1 = np.array([1,2,3],dtype = np.float64)\n",
    "arr1\n",
    "arr2 = np.array([3,4,5],dtype = np.int32)\n",
    "arr2"
   ]
  },
  {
   "cell_type": "code",
   "execution_count": 417,
   "metadata": {},
   "outputs": [
    {
     "data": {
      "text/plain": [
       "array([7, 8, 9])"
      ]
     },
     "execution_count": 417,
     "metadata": {},
     "output_type": "execute_result"
    }
   ],
   "source": [
    "arr2d = np.array([                              #la diferencia es que aqui hay una sola lista \n",
    "                [1,2,3],[4,5,6],[7,8,9]])\n",
    "# arr2d[0][2]\n",
    "arr2d[2]\n",
    "# arr2d.astype(np.int32)"
   ]
  },
  {
   "cell_type": "markdown",
   "metadata": {},
   "source": [
    "## Es diferentes cuando es un narray de varias dimensiones "
   ]
  },
  {
   "cell_type": "code",
   "execution_count": 418,
   "metadata": {},
   "outputs": [
    {
     "data": {
      "text/plain": [
       "array([4, 5, 6])"
      ]
     },
     "execution_count": 418,
     "metadata": {},
     "output_type": "execute_result"
    }
   ],
   "source": [
    "arr3d = np.array([                                  # la diferencia es que aqui hay dos listas \n",
    "    [[1, 2, 3], [4, 5, 6]],  # 0 Primer bloque\n",
    "    [[7, 8, 9], [10, 11, 12]] # 1 Segundo bloque\n",
    "])\n",
    "arr3d[0,1]"
   ]
  },
  {
   "cell_type": "markdown",
   "metadata": {},
   "source": [
    "### Corte en el array\n"
   ]
  },
  {
   "cell_type": "code",
   "execution_count": 419,
   "metadata": {},
   "outputs": [
    {
     "data": {
      "text/plain": [
       "array([[[1, 2, 3],\n",
       "        [4, 5, 6]]])"
      ]
     },
     "execution_count": 419,
     "metadata": {},
     "output_type": "execute_result"
    }
   ],
   "source": [
    "arr3d[:1]"
   ]
  },
  {
   "cell_type": "markdown",
   "metadata": {},
   "source": [
    "#### Seleccion en el array de 2d "
   ]
  },
  {
   "cell_type": "code",
   "execution_count": 420,
   "metadata": {},
   "outputs": [
    {
     "data": {
      "text/plain": [
       "array([[1, 2],\n",
       "       [4, 5]])"
      ]
     },
     "execution_count": 420,
     "metadata": {},
     "output_type": "execute_result"
    }
   ],
   "source": [
    "arr2d[:2,:2]"
   ]
  },
  {
   "cell_type": "code",
   "execution_count": 421,
   "metadata": {},
   "outputs": [
    {
     "data": {
      "text/plain": [
       "array([1, 4, 7])"
      ]
     },
     "execution_count": 421,
     "metadata": {},
     "output_type": "execute_result"
    }
   ],
   "source": [
    "arr2d[:3, 0]"
   ]
  },
  {
   "cell_type": "code",
   "execution_count": 422,
   "metadata": {},
   "outputs": [
    {
     "data": {
      "text/plain": [
       "array([[1],\n",
       "       [4],\n",
       "       [7]])"
      ]
     },
     "execution_count": 422,
     "metadata": {},
     "output_type": "execute_result"
    }
   ],
   "source": [
    "arr2d[:, :1]"
   ]
  },
  {
   "cell_type": "code",
   "execution_count": 423,
   "metadata": {},
   "outputs": [
    {
     "data": {
      "text/plain": [
       "array([[1, 0, 0],\n",
       "       [4, 0, 0],\n",
       "       [7, 8, 9]])"
      ]
     },
     "execution_count": 423,
     "metadata": {},
     "output_type": "execute_result"
    }
   ],
   "source": [
    "arr2d[:2, 1:] = 0\n",
    "arr2d"
   ]
  },
  {
   "cell_type": "markdown",
   "metadata": {},
   "source": [
    "# Indexado Buleano\n"
   ]
  },
  {
   "cell_type": "code",
   "execution_count": 424,
   "metadata": {},
   "outputs": [
    {
     "data": {
      "text/plain": [
       "array(['Bob', ' Joe ', 'Will', 'Bob', 'Will', 'Joe', 'Joe'], dtype='<U5')"
      ]
     },
     "execution_count": 424,
     "metadata": {},
     "output_type": "execute_result"
    }
   ],
   "source": [
    "names = np.array([ 'Bob' , ' Joe ', 'Will', 'Bob', 'Will', 'Joe', 'Joe'])\n",
    "data = np.array([[4, 7], [0, 2], [-5, 6], [0, 0], [1, 2],[-12, -4], [3, 4]])\n",
    "names\n"
   ]
  },
  {
   "cell_type": "code",
   "execution_count": 425,
   "metadata": {},
   "outputs": [
    {
     "data": {
      "text/plain": [
       "array([[  4,   7],\n",
       "       [  0,   2],\n",
       "       [ -5,   6],\n",
       "       [  0,   0],\n",
       "       [  1,   2],\n",
       "       [-12,  -4],\n",
       "       [  3,   4]])"
      ]
     },
     "execution_count": 425,
     "metadata": {},
     "output_type": "execute_result"
    }
   ],
   "source": [
    "data"
   ]
  },
  {
   "cell_type": "markdown",
   "metadata": {},
   "source": [
    "# Indexar un array boleano y se ve como selecciona las mismas posiciones"
   ]
  },
  {
   "cell_type": "code",
   "execution_count": 426,
   "metadata": {},
   "outputs": [
    {
     "data": {
      "text/plain": [
       "array([[4, 7],\n",
       "       [0, 0]])"
      ]
     },
     "execution_count": 426,
     "metadata": {},
     "output_type": "execute_result"
    }
   ],
   "source": [
    "data[names == 'Bob']"
   ]
  },
  {
   "cell_type": "code",
   "execution_count": 427,
   "metadata": {},
   "outputs": [
    {
     "data": {
      "text/plain": [
       "array([[7],\n",
       "       [0]])"
      ]
     },
     "execution_count": 427,
     "metadata": {},
     "output_type": "execute_result"
    }
   ],
   "source": [
    "In [106]: data[names == 'Bob', 1:]"
   ]
  },
  {
   "cell_type": "markdown",
   "metadata": {},
   "source": [
    "# Para negar en este caso se pueden usar estas dos opciones "
   ]
  },
  {
   "cell_type": "code",
   "execution_count": 428,
   "metadata": {},
   "outputs": [
    {
     "data": {
      "text/plain": [
       "array([False,  True,  True, False,  True,  True,  True])"
      ]
     },
     "execution_count": 428,
     "metadata": {},
     "output_type": "execute_result"
    }
   ],
   "source": [
    "names != 'Bob'"
   ]
  },
  {
   "cell_type": "code",
   "execution_count": 429,
   "metadata": {},
   "outputs": [
    {
     "data": {
      "text/plain": [
       "array([False,  True,  True, False,  True,  True,  True])"
      ]
     },
     "execution_count": 429,
     "metadata": {},
     "output_type": "execute_result"
    }
   ],
   "source": [
    "~(names == 'Bob')"
   ]
  },
  {
   "cell_type": "code",
   "execution_count": 430,
   "metadata": {},
   "outputs": [
    {
     "data": {
      "text/plain": [
       "array([[  0,   2],\n",
       "       [ -5,   6],\n",
       "       [  1,   2],\n",
       "       [-12,  -4],\n",
       "       [  3,   4]])"
      ]
     },
     "execution_count": 430,
     "metadata": {},
     "output_type": "execute_result"
    }
   ],
   "source": [
    "data[~(names == 'Bob')]"
   ]
  },
  {
   "cell_type": "markdown",
   "metadata": {},
   "source": [
    "Para elegir dos de los tres nombres y combinar así varias condiciones  booleanas, utilizamos operadores aritméticos booleanos como & (and) y |  (or):"
   ]
  },
  {
   "cell_type": "code",
   "execution_count": 431,
   "metadata": {},
   "outputs": [
    {
     "data": {
      "text/plain": [
       "array([ True, False,  True,  True,  True, False, False])"
      ]
     },
     "execution_count": 431,
     "metadata": {},
     "output_type": "execute_result"
    }
   ],
   "source": [
    "mask = (names == 'Bob') | (names == 'Will')\n",
    "mask"
   ]
  },
  {
   "cell_type": "code",
   "execution_count": 432,
   "metadata": {},
   "outputs": [
    {
     "data": {
      "text/plain": [
       "array([[ 4,  7],\n",
       "       [-5,  6],\n",
       "       [ 0,  0],\n",
       "       [ 1,  2]])"
      ]
     },
     "execution_count": 432,
     "metadata": {},
     "output_type": "execute_result"
    }
   ],
   "source": [
    "data[mask]"
   ]
  },
  {
   "cell_type": "code",
   "execution_count": 433,
   "metadata": {},
   "outputs": [
    {
     "data": {
      "text/plain": [
       "array([[0., 0., 0., 0.],\n",
       "       [1., 1., 1., 1.],\n",
       "       [2., 2., 2., 2.],\n",
       "       [3., 3., 3., 3.],\n",
       "       [4., 4., 4., 4.],\n",
       "       [5., 5., 5., 5.],\n",
       "       [6., 6., 6., 6.],\n",
       "       [7., 7., 7., 7.]])"
      ]
     },
     "execution_count": 433,
     "metadata": {},
     "output_type": "execute_result"
    }
   ],
   "source": [
    "arr = np.zeros((8, 4))\n",
    "for i in range(8):\n",
    "    arr[i] = i\n",
    "arr"
   ]
  },
  {
   "cell_type": "code",
   "execution_count": 434,
   "metadata": {},
   "outputs": [
    {
     "data": {
      "text/plain": [
       "array([[4., 4., 4., 4.],\n",
       "       [3., 3., 3., 3.],\n",
       "       [0., 0., 0., 0.],\n",
       "       [6., 6., 6., 6.]])"
      ]
     },
     "execution_count": 434,
     "metadata": {},
     "output_type": "execute_result"
    }
   ],
   "source": [
    "arr[[4, 3, 0, 6]]\n"
   ]
  },
  {
   "cell_type": "code",
   "execution_count": 435,
   "metadata": {},
   "outputs": [
    {
     "data": {
      "text/plain": [
       "array([[5., 5., 5., 5.],\n",
       "       [3., 3., 3., 3.],\n",
       "       [1., 1., 1., 1.]])"
      ]
     },
     "execution_count": 435,
     "metadata": {},
     "output_type": "execute_result"
    }
   ],
   "source": [
    "arr[[-3, -5, -7]]"
   ]
  },
  {
   "cell_type": "code",
   "execution_count": 436,
   "metadata": {},
   "outputs": [
    {
     "data": {
      "text/plain": [
       "array([[ 0,  1,  2,  3],\n",
       "       [ 4,  5,  6,  7],\n",
       "       [ 8,  9, 10, 11],\n",
       "       [12, 13, 14, 15],\n",
       "       [16, 17, 18, 19],\n",
       "       [20, 21, 22, 23],\n",
       "       [24, 25, 26, 27],\n",
       "       [28, 29, 30, 31]])"
      ]
     },
     "execution_count": 436,
     "metadata": {},
     "output_type": "execute_result"
    }
   ],
   "source": [
    "arr = np.arange(32).reshape((8, 4))\n",
    "arr"
   ]
  },
  {
   "cell_type": "markdown",
   "metadata": {},
   "source": [
    "El comportamiento del indexado sofisticado en este caso es algo distinto  a lo que algunos usuarios podrían haber imaginado (yo mismo incluido),  que es la región rectangular formada por elegir un subconjunto de las filas y  colummas de la matriz. Esta es una forma de conseguir esto:"
   ]
  },
  {
   "cell_type": "code",
   "execution_count": 437,
   "metadata": {},
   "outputs": [
    {
     "data": {
      "text/plain": [
       "array([[ 4,  7,  5,  6],\n",
       "       [20, 23, 21, 22],\n",
       "       [28, 31, 29, 30],\n",
       "       [ 8, 11,  9, 10]])"
      ]
     },
     "execution_count": 437,
     "metadata": {},
     "output_type": "execute_result"
    }
   ],
   "source": [
    "arr[[1, 5, 7, 2]][:, [0, 3, 1, 2]]"
   ]
  },
  {
   "cell_type": "markdown",
   "metadata": {},
   "source": [
    "##  Transponer arrays e intercambiar ejes "
   ]
  },
  {
   "cell_type": "code",
   "execution_count": 438,
   "metadata": {},
   "outputs": [
    {
     "data": {
      "text/plain": [
       "array([[ 0,  1,  2,  3,  4],\n",
       "       [ 5,  6,  7,  8,  9],\n",
       "       [10, 11, 12, 13, 14]])"
      ]
     },
     "execution_count": 438,
     "metadata": {},
     "output_type": "execute_result"
    }
   ],
   "source": [
    "arr = np.arange(15).reshape(3,5)\n",
    "arr"
   ]
  },
  {
   "cell_type": "code",
   "execution_count": 439,
   "metadata": {},
   "outputs": [
    {
     "data": {
      "text/plain": [
       "array([[ 0,  5, 10],\n",
       "       [ 1,  6, 11],\n",
       "       [ 2,  7, 12],\n",
       "       [ 3,  8, 13],\n",
       "       [ 4,  9, 14]])"
      ]
     },
     "execution_count": 439,
     "metadata": {},
     "output_type": "execute_result"
    }
   ],
   "source": [
    "arr.T"
   ]
  },
  {
   "cell_type": "markdown",
   "metadata": {},
   "source": [
    "calcula el producto interno de  una matriz utilizando numpy.dot:"
   ]
  },
  {
   "cell_type": "code",
   "execution_count": 440,
   "metadata": {},
   "outputs": [
    {
     "data": {
      "text/plain": [
       "array([[125, 140, 155, 170, 185],\n",
       "       [140, 158, 176, 194, 212],\n",
       "       [155, 176, 197, 218, 239],\n",
       "       [170, 194, 218, 242, 266],\n",
       "       [185, 212, 239, 266, 293]])"
      ]
     },
     "execution_count": 440,
     "metadata": {},
     "output_type": "execute_result"
    }
   ],
   "source": [
    "np.dot(arr.T,arr)"
   ]
  },
  {
   "cell_type": "markdown",
   "metadata": {},
   "source": [
    "El operador @ es otra forma de hacer multiplicación de matrices:"
   ]
  },
  {
   "cell_type": "code",
   "execution_count": 441,
   "metadata": {},
   "outputs": [
    {
     "data": {
      "text/plain": [
       "array([[125, 140, 155, 170, 185],\n",
       "       [140, 158, 176, 194, 212],\n",
       "       [155, 176, 197, 218, 239],\n",
       "       [170, 194, 218, 242, 266],\n",
       "       [185, 212, 239, 266, 293]])"
      ]
     },
     "execution_count": 441,
     "metadata": {},
     "output_type": "execute_result"
    }
   ],
   "source": [
    "arr.T @ arr"
   ]
  },
  {
   "cell_type": "markdown",
   "metadata": {},
   "source": [
    "### Creacion de numeros seudoaleatorios "
   ]
  },
  {
   "cell_type": "code",
   "execution_count": 442,
   "metadata": {},
   "outputs": [
    {
     "data": {
      "text/plain": [
       "array([[ 0.82280565,  0.92697277,  0.24613036, -1.26670069],\n",
       "       [-0.53269428,  0.5297238 , -1.49830117, -0.01091915],\n",
       "       [-1.06217623,  0.23859604,  0.37258869, -0.42230272],\n",
       "       [-0.84231754,  0.70247586,  3.41603812,  1.99979285]])"
      ]
     },
     "execution_count": 442,
     "metadata": {},
     "output_type": "execute_result"
    }
   ],
   "source": [
    "samples = np.random.standard_normal(size=(4, 4))\n",
    "samples"
   ]
  },
  {
   "cell_type": "markdown",
   "metadata": {},
   "source": [
    "### Estos números aleatorios no lo son realmente (son más bien  pseudoaleatorios); en realidad los produce un generador de números  aleatorios configurable, que determina de forma preestablecida qué valores  se crean. Funciones como numpy.random.standard_normal emplean el  generador de números aleatorios predeterminado del módulo  numpy.random, pero el código se puede configurar para que utilice un  generador explícito:"
   ]
  },
  {
   "cell_type": "code",
   "execution_count": 443,
   "metadata": {},
   "outputs": [
    {
     "data": {
      "text/plain": [
       "Generator(PCG64) at 0x272E8C711C0"
      ]
     },
     "execution_count": 443,
     "metadata": {},
     "output_type": "execute_result"
    }
   ],
   "source": [
    "rng = np.random.default_rng(seed=123456)\n",
    "rng"
   ]
  },
  {
   "cell_type": "code",
   "execution_count": 444,
   "metadata": {},
   "outputs": [
    {
     "data": {
      "text/plain": [
       "array([[ 0.1928212 , -0.06550702,  0.43550665],\n",
       "       [ 0.88235875,  0.37132785,  1.15998882]])"
      ]
     },
     "execution_count": 444,
     "metadata": {},
     "output_type": "execute_result"
    }
   ],
   "source": [
    "data = rng.standard_normal((2, 3))\n",
    "data"
   ]
  },
  {
   "cell_type": "code",
   "execution_count": 445,
   "metadata": {},
   "outputs": [
    {
     "data": {
      "text/plain": [
       "numpy.random._generator.Generator"
      ]
     },
     "execution_count": 445,
     "metadata": {},
     "output_type": "execute_result"
    }
   ],
   "source": [
    "type(rng)"
   ]
  },
  {
   "cell_type": "code",
   "execution_count": 446,
   "metadata": {},
   "outputs": [
    {
     "data": {
      "text/plain": [
       "array([32, 21, 26, 35, 13])"
      ]
     },
     "execution_count": 446,
     "metadata": {},
     "output_type": "execute_result"
    }
   ],
   "source": [
    "# Generar 5 enteros aleatorios entre 10 y 50 (excluyendo 50)\n",
    "data_integers = rng.integers(10, 50, 5)\n",
    "data_integers"
   ]
  },
  {
   "cell_type": "markdown",
   "metadata": {},
   "source": [
    "Funciones universales: funciones rápidas de array  elemento a elemento"
   ]
  },
  {
   "cell_type": "code",
   "execution_count": 447,
   "metadata": {},
   "outputs": [],
   "source": [
    "arr = np.arange(10)"
   ]
  },
  {
   "cell_type": "markdown",
   "metadata": {},
   "source": [
    "raiz cuadrada"
   ]
  },
  {
   "cell_type": "code",
   "execution_count": 448,
   "metadata": {},
   "outputs": [
    {
     "data": {
      "text/plain": [
       "array([0.        , 1.        , 1.41421356, 1.73205081, 2.        ,\n",
       "       2.23606798, 2.44948974, 2.64575131, 2.82842712, 3.        ])"
      ]
     },
     "execution_count": 448,
     "metadata": {},
     "output_type": "execute_result"
    }
   ],
   "source": [
    "np.sqrt(arr)"
   ]
  },
  {
   "cell_type": "markdown",
   "metadata": {},
   "source": [
    "Exponecial\n"
   ]
  },
  {
   "cell_type": "code",
   "execution_count": 449,
   "metadata": {},
   "outputs": [
    {
     "data": {
      "text/plain": [
       "array([1.00000000e+00, 2.71828183e+00, 7.38905610e+00, 2.00855369e+01,\n",
       "       5.45981500e+01, 1.48413159e+02, 4.03428793e+02, 1.09663316e+03,\n",
       "       2.98095799e+03, 8.10308393e+03])"
      ]
     },
     "execution_count": 449,
     "metadata": {},
     "output_type": "execute_result"
    }
   ],
   "source": [
    "np.exp(arr)"
   ]
  },
  {
   "cell_type": "code",
   "execution_count": 450,
   "metadata": {},
   "outputs": [
    {
     "data": {
      "text/plain": [
       "array([ 1.95324484, -0.53790441, -0.30868175, -0.27351324,  0.71642266,\n",
       "        0.49172141, -0.21815082, -0.14839858])"
      ]
     },
     "execution_count": 450,
     "metadata": {},
     "output_type": "execute_result"
    }
   ],
   "source": [
    "x = rng.standard_normal(8)\n",
    "x"
   ]
  },
  {
   "cell_type": "code",
   "execution_count": 451,
   "metadata": {},
   "outputs": [
    {
     "data": {
      "text/plain": [
       "array([ 0.26709038,  0.01414178,  0.81471778,  1.10047658,  0.61305867,\n",
       "       -0.43716194,  1.24196053, -1.61178392])"
      ]
     },
     "execution_count": 451,
     "metadata": {},
     "output_type": "execute_result"
    }
   ],
   "source": [
    "y = rng.standard_normal(8)\n",
    "y"
   ]
  },
  {
   "cell_type": "markdown",
   "metadata": {},
   "source": [
    "Maximo valor entre dos valores array En este ejemplo, numpy.maximum calculaba el máximo elemento a  elemento de los elementos de x e y."
   ]
  },
  {
   "cell_type": "code",
   "execution_count": 452,
   "metadata": {},
   "outputs": [
    {
     "data": {
      "text/plain": [
       "array([ 1.95324484,  0.01414178,  0.81471778,  1.10047658,  0.71642266,\n",
       "        0.49172141,  1.24196053, -0.14839858])"
      ]
     },
     "execution_count": 452,
     "metadata": {},
     "output_type": "execute_result"
    }
   ],
   "source": [
    "np.maximum(x, y)"
   ]
  },
  {
   "cell_type": "code",
   "execution_count": 453,
   "metadata": {},
   "outputs": [
    {
     "data": {
      "text/plain": [
       "array([-1.5850453 , -3.40869088,  3.26496065, -1.22198054, -5.56796747,\n",
       "       -0.80680824,  0.6517644 ])"
      ]
     },
     "execution_count": 453,
     "metadata": {},
     "output_type": "execute_result"
    }
   ],
   "source": [
    "rr = rng.standard_normal(7) * 5\n",
    "rr"
   ]
  },
  {
   "cell_type": "markdown",
   "metadata": {},
   "source": []
  },
  {
   "cell_type": "code",
   "execution_count": 454,
   "metadata": {},
   "outputs": [],
   "source": [
    "remainder, whole_part = np.modf(rr)"
   ]
  },
  {
   "cell_type": "markdown",
   "metadata": {},
   "source": [
    "Parte Fraccionaria "
   ]
  },
  {
   "cell_type": "code",
   "execution_count": 455,
   "metadata": {},
   "outputs": [
    {
     "data": {
      "text/plain": [
       "array([-0.5850453 , -0.40869088,  0.26496065, -0.22198054, -0.56796747,\n",
       "       -0.80680824,  0.6517644 ])"
      ]
     },
     "execution_count": 455,
     "metadata": {},
     "output_type": "execute_result"
    }
   ],
   "source": [
    "remainder"
   ]
  },
  {
   "cell_type": "markdown",
   "metadata": {},
   "source": [
    "parte entera de rr que es un array"
   ]
  },
  {
   "cell_type": "code",
   "execution_count": 456,
   "metadata": {},
   "outputs": [
    {
     "data": {
      "text/plain": [
       "array([-1., -3.,  3., -1., -5., -0.,  0.])"
      ]
     },
     "execution_count": 456,
     "metadata": {},
     "output_type": "execute_result"
    }
   ],
   "source": [
    "whole_part"
   ]
  },
  {
   "cell_type": "code",
   "execution_count": 457,
   "metadata": {},
   "outputs": [
    {
     "data": {
      "text/plain": [
       "array([-1.5850453 , -3.40869088,  3.26496065, -1.22198054, -5.56796747,\n",
       "       -0.80680824,  0.6517644 ])"
      ]
     },
     "execution_count": 457,
     "metadata": {},
     "output_type": "execute_result"
    }
   ],
   "source": [
    "rr\n"
   ]
  },
  {
   "cell_type": "code",
   "execution_count": 458,
   "metadata": {},
   "outputs": [
    {
     "data": {
      "text/plain": [
       "array([0., 0., 0., 0., 0., 0., 0.])"
      ]
     },
     "execution_count": 458,
     "metadata": {},
     "output_type": "execute_result"
    }
   ],
   "source": [
    "out = np.zeros_like(rr)\n",
    "out"
   ]
  },
  {
   "cell_type": "code",
   "execution_count": 459,
   "metadata": {},
   "outputs": [
    {
     "data": {
      "text/plain": [
       "array([-0.5850453 , -2.40869088,  4.26496065, -0.22198054, -4.56796747,\n",
       "        0.19319176,  1.6517644 ])"
      ]
     },
     "execution_count": 459,
     "metadata": {},
     "output_type": "execute_result"
    }
   ],
   "source": [
    "np.add(rr, 1) # se le suma uno a cada array"
   ]
  },
  {
   "cell_type": "code",
   "execution_count": 460,
   "metadata": {},
   "outputs": [
    {
     "data": {
      "text/plain": [
       "array([-0.5850453 , -2.40869088,  4.26496065, -0.22198054, -4.56796747,\n",
       "        0.19319176,  1.6517644 ])"
      ]
     },
     "execution_count": 460,
     "metadata": {},
     "output_type": "execute_result"
    }
   ],
   "source": [
    "np.add(rr, 1, out=out)  #l código np.add(rr, 1, out=out) utiliza la función np.add para realizar una suma elemento a elemento entre el array rr y \n",
    "                        #el escalar 1, almacenando el resultado directamente en el array out en lugar de crear uno nuevo."
   ]
  },
  {
   "cell_type": "markdown",
   "metadata": {},
   "source": [
    "Genere valores del -5 al 5 con una distancia entre cada valor de 0.01\n"
   ]
  },
  {
   "cell_type": "code",
   "execution_count": 461,
   "metadata": {},
   "outputs": [
    {
     "data": {
      "text/plain": [
       "array([-5.0000000e+00, -4.9900000e+00, -4.9800000e+00, -4.9700000e+00,\n",
       "       -4.9600000e+00, -4.9500000e+00, -4.9400000e+00, -4.9300000e+00,\n",
       "       -4.9200000e+00, -4.9100000e+00, -4.9000000e+00, -4.8900000e+00,\n",
       "       -4.8800000e+00, -4.8700000e+00, -4.8600000e+00, -4.8500000e+00,\n",
       "       -4.8400000e+00, -4.8300000e+00, -4.8200000e+00, -4.8100000e+00,\n",
       "       -4.8000000e+00, -4.7900000e+00, -4.7800000e+00, -4.7700000e+00,\n",
       "       -4.7600000e+00, -4.7500000e+00, -4.7400000e+00, -4.7300000e+00,\n",
       "       -4.7200000e+00, -4.7100000e+00, -4.7000000e+00, -4.6900000e+00,\n",
       "       -4.6800000e+00, -4.6700000e+00, -4.6600000e+00, -4.6500000e+00,\n",
       "       -4.6400000e+00, -4.6300000e+00, -4.6200000e+00, -4.6100000e+00,\n",
       "       -4.6000000e+00, -4.5900000e+00, -4.5800000e+00, -4.5700000e+00,\n",
       "       -4.5600000e+00, -4.5500000e+00, -4.5400000e+00, -4.5300000e+00,\n",
       "       -4.5200000e+00, -4.5100000e+00, -4.5000000e+00, -4.4900000e+00,\n",
       "       -4.4800000e+00, -4.4700000e+00, -4.4600000e+00, -4.4500000e+00,\n",
       "       -4.4400000e+00, -4.4300000e+00, -4.4200000e+00, -4.4100000e+00,\n",
       "       -4.4000000e+00, -4.3900000e+00, -4.3800000e+00, -4.3700000e+00,\n",
       "       -4.3600000e+00, -4.3500000e+00, -4.3400000e+00, -4.3300000e+00,\n",
       "       -4.3200000e+00, -4.3100000e+00, -4.3000000e+00, -4.2900000e+00,\n",
       "       -4.2800000e+00, -4.2700000e+00, -4.2600000e+00, -4.2500000e+00,\n",
       "       -4.2400000e+00, -4.2300000e+00, -4.2200000e+00, -4.2100000e+00,\n",
       "       -4.2000000e+00, -4.1900000e+00, -4.1800000e+00, -4.1700000e+00,\n",
       "       -4.1600000e+00, -4.1500000e+00, -4.1400000e+00, -4.1300000e+00,\n",
       "       -4.1200000e+00, -4.1100000e+00, -4.1000000e+00, -4.0900000e+00,\n",
       "       -4.0800000e+00, -4.0700000e+00, -4.0600000e+00, -4.0500000e+00,\n",
       "       -4.0400000e+00, -4.0300000e+00, -4.0200000e+00, -4.0100000e+00,\n",
       "       -4.0000000e+00, -3.9900000e+00, -3.9800000e+00, -3.9700000e+00,\n",
       "       -3.9600000e+00, -3.9500000e+00, -3.9400000e+00, -3.9300000e+00,\n",
       "       -3.9200000e+00, -3.9100000e+00, -3.9000000e+00, -3.8900000e+00,\n",
       "       -3.8800000e+00, -3.8700000e+00, -3.8600000e+00, -3.8500000e+00,\n",
       "       -3.8400000e+00, -3.8300000e+00, -3.8200000e+00, -3.8100000e+00,\n",
       "       -3.8000000e+00, -3.7900000e+00, -3.7800000e+00, -3.7700000e+00,\n",
       "       -3.7600000e+00, -3.7500000e+00, -3.7400000e+00, -3.7300000e+00,\n",
       "       -3.7200000e+00, -3.7100000e+00, -3.7000000e+00, -3.6900000e+00,\n",
       "       -3.6800000e+00, -3.6700000e+00, -3.6600000e+00, -3.6500000e+00,\n",
       "       -3.6400000e+00, -3.6300000e+00, -3.6200000e+00, -3.6100000e+00,\n",
       "       -3.6000000e+00, -3.5900000e+00, -3.5800000e+00, -3.5700000e+00,\n",
       "       -3.5600000e+00, -3.5500000e+00, -3.5400000e+00, -3.5300000e+00,\n",
       "       -3.5200000e+00, -3.5100000e+00, -3.5000000e+00, -3.4900000e+00,\n",
       "       -3.4800000e+00, -3.4700000e+00, -3.4600000e+00, -3.4500000e+00,\n",
       "       -3.4400000e+00, -3.4300000e+00, -3.4200000e+00, -3.4100000e+00,\n",
       "       -3.4000000e+00, -3.3900000e+00, -3.3800000e+00, -3.3700000e+00,\n",
       "       -3.3600000e+00, -3.3500000e+00, -3.3400000e+00, -3.3300000e+00,\n",
       "       -3.3200000e+00, -3.3100000e+00, -3.3000000e+00, -3.2900000e+00,\n",
       "       -3.2800000e+00, -3.2700000e+00, -3.2600000e+00, -3.2500000e+00,\n",
       "       -3.2400000e+00, -3.2300000e+00, -3.2200000e+00, -3.2100000e+00,\n",
       "       -3.2000000e+00, -3.1900000e+00, -3.1800000e+00, -3.1700000e+00,\n",
       "       -3.1600000e+00, -3.1500000e+00, -3.1400000e+00, -3.1300000e+00,\n",
       "       -3.1200000e+00, -3.1100000e+00, -3.1000000e+00, -3.0900000e+00,\n",
       "       -3.0800000e+00, -3.0700000e+00, -3.0600000e+00, -3.0500000e+00,\n",
       "       -3.0400000e+00, -3.0300000e+00, -3.0200000e+00, -3.0100000e+00,\n",
       "       -3.0000000e+00, -2.9900000e+00, -2.9800000e+00, -2.9700000e+00,\n",
       "       -2.9600000e+00, -2.9500000e+00, -2.9400000e+00, -2.9300000e+00,\n",
       "       -2.9200000e+00, -2.9100000e+00, -2.9000000e+00, -2.8900000e+00,\n",
       "       -2.8800000e+00, -2.8700000e+00, -2.8600000e+00, -2.8500000e+00,\n",
       "       -2.8400000e+00, -2.8300000e+00, -2.8200000e+00, -2.8100000e+00,\n",
       "       -2.8000000e+00, -2.7900000e+00, -2.7800000e+00, -2.7700000e+00,\n",
       "       -2.7600000e+00, -2.7500000e+00, -2.7400000e+00, -2.7300000e+00,\n",
       "       -2.7200000e+00, -2.7100000e+00, -2.7000000e+00, -2.6900000e+00,\n",
       "       -2.6800000e+00, -2.6700000e+00, -2.6600000e+00, -2.6500000e+00,\n",
       "       -2.6400000e+00, -2.6300000e+00, -2.6200000e+00, -2.6100000e+00,\n",
       "       -2.6000000e+00, -2.5900000e+00, -2.5800000e+00, -2.5700000e+00,\n",
       "       -2.5600000e+00, -2.5500000e+00, -2.5400000e+00, -2.5300000e+00,\n",
       "       -2.5200000e+00, -2.5100000e+00, -2.5000000e+00, -2.4900000e+00,\n",
       "       -2.4800000e+00, -2.4700000e+00, -2.4600000e+00, -2.4500000e+00,\n",
       "       -2.4400000e+00, -2.4300000e+00, -2.4200000e+00, -2.4100000e+00,\n",
       "       -2.4000000e+00, -2.3900000e+00, -2.3800000e+00, -2.3700000e+00,\n",
       "       -2.3600000e+00, -2.3500000e+00, -2.3400000e+00, -2.3300000e+00,\n",
       "       -2.3200000e+00, -2.3100000e+00, -2.3000000e+00, -2.2900000e+00,\n",
       "       -2.2800000e+00, -2.2700000e+00, -2.2600000e+00, -2.2500000e+00,\n",
       "       -2.2400000e+00, -2.2300000e+00, -2.2200000e+00, -2.2100000e+00,\n",
       "       -2.2000000e+00, -2.1900000e+00, -2.1800000e+00, -2.1700000e+00,\n",
       "       -2.1600000e+00, -2.1500000e+00, -2.1400000e+00, -2.1300000e+00,\n",
       "       -2.1200000e+00, -2.1100000e+00, -2.1000000e+00, -2.0900000e+00,\n",
       "       -2.0800000e+00, -2.0700000e+00, -2.0600000e+00, -2.0500000e+00,\n",
       "       -2.0400000e+00, -2.0300000e+00, -2.0200000e+00, -2.0100000e+00,\n",
       "       -2.0000000e+00, -1.9900000e+00, -1.9800000e+00, -1.9700000e+00,\n",
       "       -1.9600000e+00, -1.9500000e+00, -1.9400000e+00, -1.9300000e+00,\n",
       "       -1.9200000e+00, -1.9100000e+00, -1.9000000e+00, -1.8900000e+00,\n",
       "       -1.8800000e+00, -1.8700000e+00, -1.8600000e+00, -1.8500000e+00,\n",
       "       -1.8400000e+00, -1.8300000e+00, -1.8200000e+00, -1.8100000e+00,\n",
       "       -1.8000000e+00, -1.7900000e+00, -1.7800000e+00, -1.7700000e+00,\n",
       "       -1.7600000e+00, -1.7500000e+00, -1.7400000e+00, -1.7300000e+00,\n",
       "       -1.7200000e+00, -1.7100000e+00, -1.7000000e+00, -1.6900000e+00,\n",
       "       -1.6800000e+00, -1.6700000e+00, -1.6600000e+00, -1.6500000e+00,\n",
       "       -1.6400000e+00, -1.6300000e+00, -1.6200000e+00, -1.6100000e+00,\n",
       "       -1.6000000e+00, -1.5900000e+00, -1.5800000e+00, -1.5700000e+00,\n",
       "       -1.5600000e+00, -1.5500000e+00, -1.5400000e+00, -1.5300000e+00,\n",
       "       -1.5200000e+00, -1.5100000e+00, -1.5000000e+00, -1.4900000e+00,\n",
       "       -1.4800000e+00, -1.4700000e+00, -1.4600000e+00, -1.4500000e+00,\n",
       "       -1.4400000e+00, -1.4300000e+00, -1.4200000e+00, -1.4100000e+00,\n",
       "       -1.4000000e+00, -1.3900000e+00, -1.3800000e+00, -1.3700000e+00,\n",
       "       -1.3600000e+00, -1.3500000e+00, -1.3400000e+00, -1.3300000e+00,\n",
       "       -1.3200000e+00, -1.3100000e+00, -1.3000000e+00, -1.2900000e+00,\n",
       "       -1.2800000e+00, -1.2700000e+00, -1.2600000e+00, -1.2500000e+00,\n",
       "       -1.2400000e+00, -1.2300000e+00, -1.2200000e+00, -1.2100000e+00,\n",
       "       -1.2000000e+00, -1.1900000e+00, -1.1800000e+00, -1.1700000e+00,\n",
       "       -1.1600000e+00, -1.1500000e+00, -1.1400000e+00, -1.1300000e+00,\n",
       "       -1.1200000e+00, -1.1100000e+00, -1.1000000e+00, -1.0900000e+00,\n",
       "       -1.0800000e+00, -1.0700000e+00, -1.0600000e+00, -1.0500000e+00,\n",
       "       -1.0400000e+00, -1.0300000e+00, -1.0200000e+00, -1.0100000e+00,\n",
       "       -1.0000000e+00, -9.9000000e-01, -9.8000000e-01, -9.7000000e-01,\n",
       "       -9.6000000e-01, -9.5000000e-01, -9.4000000e-01, -9.3000000e-01,\n",
       "       -9.2000000e-01, -9.1000000e-01, -9.0000000e-01, -8.9000000e-01,\n",
       "       -8.8000000e-01, -8.7000000e-01, -8.6000000e-01, -8.5000000e-01,\n",
       "       -8.4000000e-01, -8.3000000e-01, -8.2000000e-01, -8.1000000e-01,\n",
       "       -8.0000000e-01, -7.9000000e-01, -7.8000000e-01, -7.7000000e-01,\n",
       "       -7.6000000e-01, -7.5000000e-01, -7.4000000e-01, -7.3000000e-01,\n",
       "       -7.2000000e-01, -7.1000000e-01, -7.0000000e-01, -6.9000000e-01,\n",
       "       -6.8000000e-01, -6.7000000e-01, -6.6000000e-01, -6.5000000e-01,\n",
       "       -6.4000000e-01, -6.3000000e-01, -6.2000000e-01, -6.1000000e-01,\n",
       "       -6.0000000e-01, -5.9000000e-01, -5.8000000e-01, -5.7000000e-01,\n",
       "       -5.6000000e-01, -5.5000000e-01, -5.4000000e-01, -5.3000000e-01,\n",
       "       -5.2000000e-01, -5.1000000e-01, -5.0000000e-01, -4.9000000e-01,\n",
       "       -4.8000000e-01, -4.7000000e-01, -4.6000000e-01, -4.5000000e-01,\n",
       "       -4.4000000e-01, -4.3000000e-01, -4.2000000e-01, -4.1000000e-01,\n",
       "       -4.0000000e-01, -3.9000000e-01, -3.8000000e-01, -3.7000000e-01,\n",
       "       -3.6000000e-01, -3.5000000e-01, -3.4000000e-01, -3.3000000e-01,\n",
       "       -3.2000000e-01, -3.1000000e-01, -3.0000000e-01, -2.9000000e-01,\n",
       "       -2.8000000e-01, -2.7000000e-01, -2.6000000e-01, -2.5000000e-01,\n",
       "       -2.4000000e-01, -2.3000000e-01, -2.2000000e-01, -2.1000000e-01,\n",
       "       -2.0000000e-01, -1.9000000e-01, -1.8000000e-01, -1.7000000e-01,\n",
       "       -1.6000000e-01, -1.5000000e-01, -1.4000000e-01, -1.3000000e-01,\n",
       "       -1.2000000e-01, -1.1000000e-01, -1.0000000e-01, -9.0000000e-02,\n",
       "       -8.0000000e-02, -7.0000000e-02, -6.0000000e-02, -5.0000000e-02,\n",
       "       -4.0000000e-02, -3.0000000e-02, -2.0000000e-02, -1.0000000e-02,\n",
       "       -1.0658141e-13,  1.0000000e-02,  2.0000000e-02,  3.0000000e-02,\n",
       "        4.0000000e-02,  5.0000000e-02,  6.0000000e-02,  7.0000000e-02,\n",
       "        8.0000000e-02,  9.0000000e-02,  1.0000000e-01,  1.1000000e-01,\n",
       "        1.2000000e-01,  1.3000000e-01,  1.4000000e-01,  1.5000000e-01,\n",
       "        1.6000000e-01,  1.7000000e-01,  1.8000000e-01,  1.9000000e-01,\n",
       "        2.0000000e-01,  2.1000000e-01,  2.2000000e-01,  2.3000000e-01,\n",
       "        2.4000000e-01,  2.5000000e-01,  2.6000000e-01,  2.7000000e-01,\n",
       "        2.8000000e-01,  2.9000000e-01,  3.0000000e-01,  3.1000000e-01,\n",
       "        3.2000000e-01,  3.3000000e-01,  3.4000000e-01,  3.5000000e-01,\n",
       "        3.6000000e-01,  3.7000000e-01,  3.8000000e-01,  3.9000000e-01,\n",
       "        4.0000000e-01,  4.1000000e-01,  4.2000000e-01,  4.3000000e-01,\n",
       "        4.4000000e-01,  4.5000000e-01,  4.6000000e-01,  4.7000000e-01,\n",
       "        4.8000000e-01,  4.9000000e-01,  5.0000000e-01,  5.1000000e-01,\n",
       "        5.2000000e-01,  5.3000000e-01,  5.4000000e-01,  5.5000000e-01,\n",
       "        5.6000000e-01,  5.7000000e-01,  5.8000000e-01,  5.9000000e-01,\n",
       "        6.0000000e-01,  6.1000000e-01,  6.2000000e-01,  6.3000000e-01,\n",
       "        6.4000000e-01,  6.5000000e-01,  6.6000000e-01,  6.7000000e-01,\n",
       "        6.8000000e-01,  6.9000000e-01,  7.0000000e-01,  7.1000000e-01,\n",
       "        7.2000000e-01,  7.3000000e-01,  7.4000000e-01,  7.5000000e-01,\n",
       "        7.6000000e-01,  7.7000000e-01,  7.8000000e-01,  7.9000000e-01,\n",
       "        8.0000000e-01,  8.1000000e-01,  8.2000000e-01,  8.3000000e-01,\n",
       "        8.4000000e-01,  8.5000000e-01,  8.6000000e-01,  8.7000000e-01,\n",
       "        8.8000000e-01,  8.9000000e-01,  9.0000000e-01,  9.1000000e-01,\n",
       "        9.2000000e-01,  9.3000000e-01,  9.4000000e-01,  9.5000000e-01,\n",
       "        9.6000000e-01,  9.7000000e-01,  9.8000000e-01,  9.9000000e-01,\n",
       "        1.0000000e+00,  1.0100000e+00,  1.0200000e+00,  1.0300000e+00,\n",
       "        1.0400000e+00,  1.0500000e+00,  1.0600000e+00,  1.0700000e+00,\n",
       "        1.0800000e+00,  1.0900000e+00,  1.1000000e+00,  1.1100000e+00,\n",
       "        1.1200000e+00,  1.1300000e+00,  1.1400000e+00,  1.1500000e+00,\n",
       "        1.1600000e+00,  1.1700000e+00,  1.1800000e+00,  1.1900000e+00,\n",
       "        1.2000000e+00,  1.2100000e+00,  1.2200000e+00,  1.2300000e+00,\n",
       "        1.2400000e+00,  1.2500000e+00,  1.2600000e+00,  1.2700000e+00,\n",
       "        1.2800000e+00,  1.2900000e+00,  1.3000000e+00,  1.3100000e+00,\n",
       "        1.3200000e+00,  1.3300000e+00,  1.3400000e+00,  1.3500000e+00,\n",
       "        1.3600000e+00,  1.3700000e+00,  1.3800000e+00,  1.3900000e+00,\n",
       "        1.4000000e+00,  1.4100000e+00,  1.4200000e+00,  1.4300000e+00,\n",
       "        1.4400000e+00,  1.4500000e+00,  1.4600000e+00,  1.4700000e+00,\n",
       "        1.4800000e+00,  1.4900000e+00,  1.5000000e+00,  1.5100000e+00,\n",
       "        1.5200000e+00,  1.5300000e+00,  1.5400000e+00,  1.5500000e+00,\n",
       "        1.5600000e+00,  1.5700000e+00,  1.5800000e+00,  1.5900000e+00,\n",
       "        1.6000000e+00,  1.6100000e+00,  1.6200000e+00,  1.6300000e+00,\n",
       "        1.6400000e+00,  1.6500000e+00,  1.6600000e+00,  1.6700000e+00,\n",
       "        1.6800000e+00,  1.6900000e+00,  1.7000000e+00,  1.7100000e+00,\n",
       "        1.7200000e+00,  1.7300000e+00,  1.7400000e+00,  1.7500000e+00,\n",
       "        1.7600000e+00,  1.7700000e+00,  1.7800000e+00,  1.7900000e+00,\n",
       "        1.8000000e+00,  1.8100000e+00,  1.8200000e+00,  1.8300000e+00,\n",
       "        1.8400000e+00,  1.8500000e+00,  1.8600000e+00,  1.8700000e+00,\n",
       "        1.8800000e+00,  1.8900000e+00,  1.9000000e+00,  1.9100000e+00,\n",
       "        1.9200000e+00,  1.9300000e+00,  1.9400000e+00,  1.9500000e+00,\n",
       "        1.9600000e+00,  1.9700000e+00,  1.9800000e+00,  1.9900000e+00,\n",
       "        2.0000000e+00,  2.0100000e+00,  2.0200000e+00,  2.0300000e+00,\n",
       "        2.0400000e+00,  2.0500000e+00,  2.0600000e+00,  2.0700000e+00,\n",
       "        2.0800000e+00,  2.0900000e+00,  2.1000000e+00,  2.1100000e+00,\n",
       "        2.1200000e+00,  2.1300000e+00,  2.1400000e+00,  2.1500000e+00,\n",
       "        2.1600000e+00,  2.1700000e+00,  2.1800000e+00,  2.1900000e+00,\n",
       "        2.2000000e+00,  2.2100000e+00,  2.2200000e+00,  2.2300000e+00,\n",
       "        2.2400000e+00,  2.2500000e+00,  2.2600000e+00,  2.2700000e+00,\n",
       "        2.2800000e+00,  2.2900000e+00,  2.3000000e+00,  2.3100000e+00,\n",
       "        2.3200000e+00,  2.3300000e+00,  2.3400000e+00,  2.3500000e+00,\n",
       "        2.3600000e+00,  2.3700000e+00,  2.3800000e+00,  2.3900000e+00,\n",
       "        2.4000000e+00,  2.4100000e+00,  2.4200000e+00,  2.4300000e+00,\n",
       "        2.4400000e+00,  2.4500000e+00,  2.4600000e+00,  2.4700000e+00,\n",
       "        2.4800000e+00,  2.4900000e+00,  2.5000000e+00,  2.5100000e+00,\n",
       "        2.5200000e+00,  2.5300000e+00,  2.5400000e+00,  2.5500000e+00,\n",
       "        2.5600000e+00,  2.5700000e+00,  2.5800000e+00,  2.5900000e+00,\n",
       "        2.6000000e+00,  2.6100000e+00,  2.6200000e+00,  2.6300000e+00,\n",
       "        2.6400000e+00,  2.6500000e+00,  2.6600000e+00,  2.6700000e+00,\n",
       "        2.6800000e+00,  2.6900000e+00,  2.7000000e+00,  2.7100000e+00,\n",
       "        2.7200000e+00,  2.7300000e+00,  2.7400000e+00,  2.7500000e+00,\n",
       "        2.7600000e+00,  2.7700000e+00,  2.7800000e+00,  2.7900000e+00,\n",
       "        2.8000000e+00,  2.8100000e+00,  2.8200000e+00,  2.8300000e+00,\n",
       "        2.8400000e+00,  2.8500000e+00,  2.8600000e+00,  2.8700000e+00,\n",
       "        2.8800000e+00,  2.8900000e+00,  2.9000000e+00,  2.9100000e+00,\n",
       "        2.9200000e+00,  2.9300000e+00,  2.9400000e+00,  2.9500000e+00,\n",
       "        2.9600000e+00,  2.9700000e+00,  2.9800000e+00,  2.9900000e+00,\n",
       "        3.0000000e+00,  3.0100000e+00,  3.0200000e+00,  3.0300000e+00,\n",
       "        3.0400000e+00,  3.0500000e+00,  3.0600000e+00,  3.0700000e+00,\n",
       "        3.0800000e+00,  3.0900000e+00,  3.1000000e+00,  3.1100000e+00,\n",
       "        3.1200000e+00,  3.1300000e+00,  3.1400000e+00,  3.1500000e+00,\n",
       "        3.1600000e+00,  3.1700000e+00,  3.1800000e+00,  3.1900000e+00,\n",
       "        3.2000000e+00,  3.2100000e+00,  3.2200000e+00,  3.2300000e+00,\n",
       "        3.2400000e+00,  3.2500000e+00,  3.2600000e+00,  3.2700000e+00,\n",
       "        3.2800000e+00,  3.2900000e+00,  3.3000000e+00,  3.3100000e+00,\n",
       "        3.3200000e+00,  3.3300000e+00,  3.3400000e+00,  3.3500000e+00,\n",
       "        3.3600000e+00,  3.3700000e+00,  3.3800000e+00,  3.3900000e+00,\n",
       "        3.4000000e+00,  3.4100000e+00,  3.4200000e+00,  3.4300000e+00,\n",
       "        3.4400000e+00,  3.4500000e+00,  3.4600000e+00,  3.4700000e+00,\n",
       "        3.4800000e+00,  3.4900000e+00,  3.5000000e+00,  3.5100000e+00,\n",
       "        3.5200000e+00,  3.5300000e+00,  3.5400000e+00,  3.5500000e+00,\n",
       "        3.5600000e+00,  3.5700000e+00,  3.5800000e+00,  3.5900000e+00,\n",
       "        3.6000000e+00,  3.6100000e+00,  3.6200000e+00,  3.6300000e+00,\n",
       "        3.6400000e+00,  3.6500000e+00,  3.6600000e+00,  3.6700000e+00,\n",
       "        3.6800000e+00,  3.6900000e+00,  3.7000000e+00,  3.7100000e+00,\n",
       "        3.7200000e+00,  3.7300000e+00,  3.7400000e+00,  3.7500000e+00,\n",
       "        3.7600000e+00,  3.7700000e+00,  3.7800000e+00,  3.7900000e+00,\n",
       "        3.8000000e+00,  3.8100000e+00,  3.8200000e+00,  3.8300000e+00,\n",
       "        3.8400000e+00,  3.8500000e+00,  3.8600000e+00,  3.8700000e+00,\n",
       "        3.8800000e+00,  3.8900000e+00,  3.9000000e+00,  3.9100000e+00,\n",
       "        3.9200000e+00,  3.9300000e+00,  3.9400000e+00,  3.9500000e+00,\n",
       "        3.9600000e+00,  3.9700000e+00,  3.9800000e+00,  3.9900000e+00,\n",
       "        4.0000000e+00,  4.0100000e+00,  4.0200000e+00,  4.0300000e+00,\n",
       "        4.0400000e+00,  4.0500000e+00,  4.0600000e+00,  4.0700000e+00,\n",
       "        4.0800000e+00,  4.0900000e+00,  4.1000000e+00,  4.1100000e+00,\n",
       "        4.1200000e+00,  4.1300000e+00,  4.1400000e+00,  4.1500000e+00,\n",
       "        4.1600000e+00,  4.1700000e+00,  4.1800000e+00,  4.1900000e+00,\n",
       "        4.2000000e+00,  4.2100000e+00,  4.2200000e+00,  4.2300000e+00,\n",
       "        4.2400000e+00,  4.2500000e+00,  4.2600000e+00,  4.2700000e+00,\n",
       "        4.2800000e+00,  4.2900000e+00,  4.3000000e+00,  4.3100000e+00,\n",
       "        4.3200000e+00,  4.3300000e+00,  4.3400000e+00,  4.3500000e+00,\n",
       "        4.3600000e+00,  4.3700000e+00,  4.3800000e+00,  4.3900000e+00,\n",
       "        4.4000000e+00,  4.4100000e+00,  4.4200000e+00,  4.4300000e+00,\n",
       "        4.4400000e+00,  4.4500000e+00,  4.4600000e+00,  4.4700000e+00,\n",
       "        4.4800000e+00,  4.4900000e+00,  4.5000000e+00,  4.5100000e+00,\n",
       "        4.5200000e+00,  4.5300000e+00,  4.5400000e+00,  4.5500000e+00,\n",
       "        4.5600000e+00,  4.5700000e+00,  4.5800000e+00,  4.5900000e+00,\n",
       "        4.6000000e+00,  4.6100000e+00,  4.6200000e+00,  4.6300000e+00,\n",
       "        4.6400000e+00,  4.6500000e+00,  4.6600000e+00,  4.6700000e+00,\n",
       "        4.6800000e+00,  4.6900000e+00,  4.7000000e+00,  4.7100000e+00,\n",
       "        4.7200000e+00,  4.7300000e+00,  4.7400000e+00,  4.7500000e+00,\n",
       "        4.7600000e+00,  4.7700000e+00,  4.7800000e+00,  4.7900000e+00,\n",
       "        4.8000000e+00,  4.8100000e+00,  4.8200000e+00,  4.8300000e+00,\n",
       "        4.8400000e+00,  4.8500000e+00,  4.8600000e+00,  4.8700000e+00,\n",
       "        4.8800000e+00,  4.8900000e+00,  4.9000000e+00,  4.9100000e+00,\n",
       "        4.9200000e+00,  4.9300000e+00,  4.9400000e+00,  4.9500000e+00,\n",
       "        4.9600000e+00,  4.9700000e+00,  4.9800000e+00,  4.9900000e+00])"
      ]
     },
     "execution_count": 461,
     "metadata": {},
     "output_type": "execute_result"
    }
   ],
   "source": [
    "points = np.arange(-5, 5, 0.01)\n",
    "points"
   ]
  },
  {
   "cell_type": "code",
   "execution_count": 462,
   "metadata": {},
   "outputs": [
    {
     "data": {
      "text/plain": [
       "array([[-5.  , -5.  , -5.  , ..., -5.  , -5.  , -5.  ],\n",
       "       [-4.99, -4.99, -4.99, ..., -4.99, -4.99, -4.99],\n",
       "       [-4.98, -4.98, -4.98, ..., -4.98, -4.98, -4.98],\n",
       "       ...,\n",
       "       [ 4.97,  4.97,  4.97, ...,  4.97,  4.97,  4.97],\n",
       "       [ 4.98,  4.98,  4.98, ...,  4.98,  4.98,  4.98],\n",
       "       [ 4.99,  4.99,  4.99, ...,  4.99,  4.99,  4.99]])"
      ]
     },
     "execution_count": 462,
     "metadata": {},
     "output_type": "execute_result"
    }
   ],
   "source": [
    "xs, ys = np.meshgrid(points, points)\n",
    "ys"
   ]
  },
  {
   "cell_type": "code",
   "execution_count": 463,
   "metadata": {},
   "outputs": [
    {
     "data": {
      "text/plain": [
       "array([[7.07106781, 7.06400028, 7.05693985, ..., 7.04988652, 7.05693985,\n",
       "        7.06400028],\n",
       "       [7.06400028, 7.05692568, 7.04985815, ..., 7.04279774, 7.04985815,\n",
       "        7.05692568],\n",
       "       [7.05693985, 7.04985815, 7.04278354, ..., 7.03571603, 7.04278354,\n",
       "        7.04985815],\n",
       "       ...,\n",
       "       [7.04988652, 7.04279774, 7.03571603, ..., 7.0286414 , 7.03571603,\n",
       "        7.04279774],\n",
       "       [7.05693985, 7.04985815, 7.04278354, ..., 7.03571603, 7.04278354,\n",
       "        7.04985815],\n",
       "       [7.06400028, 7.05692568, 7.04985815, ..., 7.04279774, 7.04985815,\n",
       "        7.05692568]])"
      ]
     },
     "execution_count": 463,
     "metadata": {},
     "output_type": "execute_result"
    }
   ],
   "source": [
    "z = np.sqrt(xs**2 + ys**2)\n",
    "z"
   ]
  },
  {
   "cell_type": "markdown",
   "metadata": {},
   "source": [
    "Visualización del modelo "
   ]
  },
  {
   "cell_type": "code",
   "execution_count": 464,
   "metadata": {},
   "outputs": [
    {
     "data": {
      "image/png": "[encoded data removed]",
      "text/plain": [
       "<Figure size 640x480 with 2 Axes>"
      ]
     },
     "metadata": {},
     "output_type": "display_data"
    }
   ],
   "source": [
    "import matplotlib.pyplot as plt\n",
    "\n",
    "# Crear un grid de valores para x e y\n",
    "x = np.linspace(-5, 5, 100)\n",
    "y = np.linspace(-5, 5, 100)\n",
    "X, Y = np.meshgrid(x, y)\n",
    "\n",
    "# Calcular z como la raíz cuadrada de (x^2 + y^2)\n",
    "z = np.sqrt(X**2 + Y**2)\n",
    "\n",
    "# Crear el plot\n",
    "plt.imshow(z, cmap=plt.cm.gray, extent=[-5, 5, -5, 5])  # extent con 4 valores\n",
    "plt.colorbar()  # Barra de color\n",
    "plt.title(r'Image plot of $\\sqrt{x^2 + y^2}$ for a grid of values')  # Cadena sin procesar\n",
    "plt.show()\n"
   ]
  },
  {
   "cell_type": "markdown",
   "metadata": {},
   "source": [
    "Expersar logica condicional como operaciones de arrays"
   ]
  },
  {
   "cell_type": "code",
   "execution_count": 465,
   "metadata": {},
   "outputs": [
    {
     "data": {
      "text/plain": [
       "array([ True, False,  True,  True, False])"
      ]
     },
     "execution_count": 465,
     "metadata": {},
     "output_type": "execute_result"
    }
   ],
   "source": [
    "xarr = np.array([1.1, 1.2, 1.3, 1.4, 1.5])\n",
    "yarr = np.array([2.1, 2.2, 2.3, 2.4, 2.5])\n",
    "cond = np.array([True, False, True, True, False])\n",
    "cond"
   ]
  },
  {
   "cell_type": "markdown",
   "metadata": {},
   "source": [
    "Imaginemos que queremos tomar un valor de xarr siempre que el valor  correspondiente de cond sea True, y en otro caso tomar el valor de yarr.  Una comprensión de lista que haga esto podría ser La comprensión de listas evalúa x if c else y para cada tupla:\n",
    "\n",
    "\n",
    "Primera tupla: (1.1, 2.1, True) → 1.1 (porque c es True).\n",
    "Segunda tupla: (1.2, 2.2, False) → 2.2 (porque c es False).\n",
    "Tercera tupla: (1.3, 2.3, True) → 1.3.\n",
    "Cuarta tupla: (1.4, 2.4, True) → 1.4.\n",
    "Quinta tupla: (1.5, 2.5, False) → 2.5.\n",
    "\n",
    "\n",
    "\n",
    "\n",
    "a posición de x antes de if indica que es el valor que se devuelve cuando la condición es verdadera.\n",
    "La posición de y después de else indica que es el valor que se devuelve cuando la condición es falsa."
   ]
  },
  {
   "cell_type": "code",
   "execution_count": 466,
   "metadata": {},
   "outputs": [
    {
     "data": {
      "text/plain": [
       "[np.float64(1.1),\n",
       " np.float64(2.2),\n",
       " np.float64(1.3),\n",
       " np.float64(1.4),\n",
       " np.float64(2.5)]"
      ]
     },
     "execution_count": 466,
     "metadata": {},
     "output_type": "execute_result"
    }
   ],
   "source": [
    "result = [(x if c else y)for x, y, c in zip(xarr, yarr, cond)]\n",
    "result"
   ]
  },
  {
   "cell_type": "markdown",
   "metadata": {},
   "source": [
    "### Esto mismo con where"
   ]
  },
  {
   "cell_type": "code",
   "execution_count": 467,
   "metadata": {},
   "outputs": [
    {
     "data": {
      "text/plain": [
       "array([1.1, 2.2, 1.3, 1.4, 2.5])"
      ]
     },
     "execution_count": 467,
     "metadata": {},
     "output_type": "execute_result"
    }
   ],
   "source": [
    "result = np.where(cond, xarr, yarr)  # si la condicion es verdadera se toma el valor de xarr si no se toma el valor de yarr\n",
    "result"
   ]
  },
  {
   "cell_type": "markdown",
   "metadata": {},
   "source": [
    "Vamos a crear valores aleatorios y poner un ejemplo mas especifico para el analisis de datos "
   ]
  },
  {
   "cell_type": "code",
   "execution_count": 468,
   "metadata": {},
   "outputs": [
    {
     "data": {
      "text/plain": [
       "array([[-1.30021389, -0.9064342 , -1.76571409, -0.13530755],\n",
       "       [ 0.08626036,  0.6060993 ,  1.22908319,  1.57168118],\n",
       "       [-0.52202565, -0.03897298,  0.02745358,  1.2884647 ],\n",
       "       [-0.00265976, -0.52343401,  0.04762014,  0.34583066]])"
      ]
     },
     "execution_count": 468,
     "metadata": {},
     "output_type": "execute_result"
    }
   ],
   "source": [
    "arr = rng.standard_normal((4, 4))\n",
    "arr"
   ]
  },
  {
   "cell_type": "code",
   "execution_count": 469,
   "metadata": {},
   "outputs": [
    {
     "data": {
      "text/plain": [
       "array([[False, False, False, False],\n",
       "       [ True,  True,  True,  True],\n",
       "       [False, False,  True,  True],\n",
       "       [False, False,  True,  True]])"
      ]
     },
     "execution_count": 469,
     "metadata": {},
     "output_type": "execute_result"
    }
   ],
   "source": [
    "arr > 0"
   ]
  },
  {
   "cell_type": "code",
   "execution_count": 470,
   "metadata": {},
   "outputs": [
    {
     "data": {
      "text/plain": [
       "array([[-2, -2, -2, -2],\n",
       "       [ 2,  2,  2,  2],\n",
       "       [-2, -2,  2,  2],\n",
       "       [-2, -2,  2,  2]])"
      ]
     },
     "execution_count": 470,
     "metadata": {},
     "output_type": "execute_result"
    }
   ],
   "source": [
    "np.where(arr>0, 2, -2)"
   ]
  },
  {
   "cell_type": "markdown",
   "metadata": {},
   "source": [
    " #### Otro caso mas aplicable "
   ]
  },
  {
   "cell_type": "code",
   "execution_count": 471,
   "metadata": {},
   "outputs": [
    {
     "data": {
      "text/plain": [
       "array([[-1.30021389, -0.9064342 , -1.76571409, -0.13530755],\n",
       "       [ 2.        ,  2.        ,  2.        ,  2.        ],\n",
       "       [-0.52202565, -0.03897298,  2.        ,  2.        ],\n",
       "       [-0.00265976, -0.52343401,  2.        ,  2.        ]])"
      ]
     },
     "execution_count": 471,
     "metadata": {},
     "output_type": "execute_result"
    }
   ],
   "source": [
    "np.where(arr > 0, 2, arr)"
   ]
  },
  {
   "cell_type": "markdown",
   "metadata": {},
   "source": [
    "## Metodos matemáticos y Estadísticos\n"
   ]
  },
  {
   "cell_type": "markdown",
   "metadata": {},
   "source": [
    "datos aleatorios normalmente distribuidos y calculo de ciertas estadisticas \n"
   ]
  },
  {
   "cell_type": "code",
   "execution_count": 472,
   "metadata": {},
   "outputs": [
    {
     "data": {
      "text/plain": [
       "array([[ 0.65692281,  0.9930377 , -1.41832069,  0.60098385],\n",
       "       [-0.7378736 , -0.38086182,  0.53886003,  0.87793578],\n",
       "       [ 0.43131467, -0.66472225,  0.41138206,  0.61340843],\n",
       "       [ 1.55613355,  0.20259357,  0.36306849, -1.1614607 ],\n",
       "       [-0.05249981, -0.30986981, -0.6400254 , -0.28053643]])"
      ]
     },
     "execution_count": 472,
     "metadata": {},
     "output_type": "execute_result"
    }
   ],
   "source": [
    "arr = rng.standard_normal((5, 4))\n",
    "arr"
   ]
  },
  {
   "cell_type": "markdown",
   "metadata": {},
   "source": [
    "media"
   ]
  },
  {
   "cell_type": "code",
   "execution_count": 473,
   "metadata": {},
   "outputs": [
    {
     "data": {
      "text/plain": [
       "np.float64(0.07997352110368569)"
      ]
     },
     "execution_count": 473,
     "metadata": {},
     "output_type": "execute_result"
    }
   ],
   "source": [
    "arr.mean()"
   ]
  },
  {
   "cell_type": "code",
   "execution_count": 474,
   "metadata": {},
   "outputs": [
    {
     "data": {
      "text/plain": [
       "np.float64(0.07997352110368569)"
      ]
     },
     "execution_count": 474,
     "metadata": {},
     "output_type": "execute_result"
    }
   ],
   "source": [
    "solution =np.mean(arr)\n",
    "solution"
   ]
  },
  {
   "cell_type": "code",
   "execution_count": 475,
   "metadata": {},
   "outputs": [
    {
     "data": {
      "text/plain": [
       "np.float64(1.599470422073714)"
      ]
     },
     "execution_count": 475,
     "metadata": {},
     "output_type": "execute_result"
    }
   ],
   "source": [
    "arr.sum()   # suma de todos los valores"
   ]
  },
  {
   "cell_type": "markdown",
   "metadata": {},
   "source": [
    "Funciones como mean y sum toman un argumento axis opcional, que  calcula la estadística sobre el eje dado, dando como resultado un array con  una dimensión menos:"
   ]
  },
  {
   "cell_type": "code",
   "execution_count": 476,
   "metadata": {},
   "outputs": [
    {
     "data": {
      "text/plain": [
       "array([ 0.20815592,  0.0745151 ,  0.19784573,  0.24008373, -0.32073286])"
      ]
     },
     "execution_count": 476,
     "metadata": {},
     "output_type": "execute_result"
    }
   ],
   "source": [
    "arr.mean(axis=1)  # Todo media de cada fila"
   ]
  },
  {
   "cell_type": "markdown",
   "metadata": {},
   "source": [
    "¿Por qué da error con axis=2?\n",
    "El error ocurre porque axis=2 no es válido para una matriz 2D de tamaño (5, 4):\n",
    "\n",
    "La matriz tiene dos ejes:\n",
    "axis=0: Filas.\n",
    "axis=1: Columnas.\n",
    "Intentar usar axis=2 significa que estás tratando de acceder a un tercer eje que no existe en una matriz 2D, lo que genera un error de índice fuera de rango."
   ]
  },
  {
   "cell_type": "markdown",
   "metadata": {},
   "source": [
    "Otros métodos, como cumsum y cumprod, no agregan; lo que hacen es  producir un array de los resultados intermedios"
   ]
  },
  {
   "cell_type": "code",
   "execution_count": 477,
   "metadata": {},
   "outputs": [],
   "source": [
    "arr = np.array([0, 1, 2, 3, 4, 5, 6, 7])"
   ]
  },
  {
   "cell_type": "code",
   "execution_count": 478,
   "metadata": {},
   "outputs": [
    {
     "data": {
      "text/plain": [
       "array([ 0,  1,  3,  6, 10, 15, 21, 28])"
      ]
     },
     "execution_count": 478,
     "metadata": {},
     "output_type": "execute_result"
    }
   ],
   "source": [
    "arr.cumsum(axis=0)"
   ]
  },
  {
   "cell_type": "markdown",
   "metadata": {},
   "source": [
    "En arrays multidimensionales, funciones de acumulación, como cumsum,  devuelven un array del mismo tamaño con las sumas parciales calculadas a  lo largo del eje indicado, de acuerdo con cada corte dimensional inferior:"
   ]
  },
  {
   "cell_type": "code",
   "execution_count": 479,
   "metadata": {},
   "outputs": [
    {
     "data": {
      "text/plain": [
       "array([    1,     1,     2,     6,    24,   120,   720,  5040, 40320])"
      ]
     },
     "execution_count": 479,
     "metadata": {},
     "output_type": "execute_result"
    }
   ],
   "source": [
    "arr = np.array([[1, 1, 2], [3, 4, 5], [6, 7, 8]]) #multiplica lis valores de la matriz de forma consecutiva\n",
    "arr.cumprod()"
   ]
  },
  {
   "cell_type": "markdown",
   "metadata": {},
   "source": [
    "La expresión arr.cumsum(axis=0) calcula la suma acumulada a lo largo  de las filas, mientras que arr.cumsum(axis=1) calcula las sumas a lo largo  de las columnas:"
   ]
  },
  {
   "cell_type": "code",
   "execution_count": null,
   "metadata": {},
   "outputs": [
    {
     "data": {
      "text/plain": [
       "array([[ 1,  1,  2],\n",
       "       [ 4,  5,  7],\n",
       "       [10, 12, 15]])"
      ]
     },
     "execution_count": 482,
     "metadata": {},
     "output_type": "execute_result"
    }
   ],
   "source": [
    "arr.cumsum(axis=0)# suma de los valores de la matriz de forma consecutiva en las columnas "
   ]
  },
  {
   "cell_type": "code",
   "execution_count": null,
   "metadata": {},
   "outputs": [
    {
     "data": {
      "text/plain": [
       "array([[ 1,  2,  4],\n",
       "       [ 3,  7, 12],\n",
       "       [ 6, 13, 21]])"
      ]
     },
     "execution_count": 483,
     "metadata": {},
     "output_type": "execute_result"
    }
   ],
   "source": [
    "arr.cumsum(axis=1)  # suma de los valores de la matriz de forma consecutiva a lo largo de las filas de forma acumulativa en la segunda fila es 4 porque 1+3 = 4"
   ]
  },
  {
   "cell_type": "markdown",
   "metadata": {},
   "source": []
  }
 ],
 "metadata": {
  "kernelspec": {
   "display_name": "Python 3",
   "language": "python",
   "name": "python3"
  },
  "language_info": {
   "codemirror_mode": {
    "name": "ipython",
    "version": 3
   },
   "file_extension": ".py",
   "mimetype": "text/x-python",
   "name": "python",
   "nbconvert_exporter": "python",
   "pygments_lexer": "ipython3",
   "version": "3.13.1"
  }
 },
 "nbformat": 4,
 "nbformat_minor": 2
}
